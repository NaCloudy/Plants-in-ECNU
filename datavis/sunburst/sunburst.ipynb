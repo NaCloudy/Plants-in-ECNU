{
 "cells": [
  {
   "cell_type": "code",
   "execution_count": 1,
   "metadata": {},
   "outputs": [],
   "source": [
    "import pandas as pd\n",
    "\n",
    "data = pd.read_json(r'..\\..\\..\\data\\all_trees.json')"
   ]
  },
  {
   "cell_type": "code",
   "execution_count": 2,
   "metadata": {},
   "outputs": [],
   "source": [
    "#统计每种植物的数据\n",
    "plant_data = {}\n",
    "\n",
    "for i in range(len(data)):\n",
    "  habit = data.loc[i]['template']['habit']\n",
    "  if habit not in plant_data:\n",
    "    plant_data[habit] = {\n",
    "      \"name\": habit,\n",
    "      \"value\": 0,\n",
    "      \"children\":{}\n",
    "    }\n",
    "  plant_data[habit][\"value\"] += 1\n",
    "\n",
    "  branch = data.loc[i]['template']['branch']\n",
    "  if branch not in plant_data[habit][\"children\"]:\n",
    "    plant_data[habit][\"children\"][branch] = {\n",
    "      \"name\": branch,\n",
    "      \"value\": 0,\n",
    "      \"children\":{}\n",
    "    }\n",
    "  plant_data[habit][\"children\"][branch][\"value\"] += 1\n",
    "\n",
    "  name = data.loc[i]['template']['name']\n",
    "  if name not in plant_data[habit][\"children\"][branch][\"children\"]:\n",
    "    plant_data[habit][\"children\"][branch][\"children\"][name] = {\n",
    "      \"name\": name,\n",
    "      \"value\": 0\n",
    "    }\n",
    "  plant_data[habit][\"children\"][branch][\"children\"][name][\"value\"] += 1\n"
   ]
  },
  {
   "cell_type": "code",
   "execution_count": 3,
   "metadata": {},
   "outputs": [],
   "source": [
    "#按图表所需形式设置\n",
    "data_pair = []\n",
    "\n",
    "for habit in plant_data:\n",
    "  habit_child = {\n",
    "    \"name\": plant_data[habit][\"name\"],\n",
    "    \"value\": plant_data[habit][\"value\"],\n",
    "    \"children\": []\n",
    "  }\n",
    "\n",
    "  for branch in plant_data[habit][\"children\"]:\n",
    "    branch_child = {\n",
    "      \"name\": plant_data[habit][\"children\"][branch][\"name\"],\n",
    "      \"value\": plant_data[habit][\"children\"][branch][\"value\"],\n",
    "      \"children\": []\n",
    "    }\n",
    "    \n",
    "    for name in plant_data[habit][\"children\"][branch][\"children\"]:\n",
    "      name_child = plant_data[habit][\"children\"][branch][\"children\"][name]\n",
    "      branch_child[\"children\"].append(name_child)\n",
    "\n",
    "    habit_child[\"children\"].append(branch_child)\n",
    "    \n",
    "  data_pair.append(habit_child)\n",
    "  "
   ]
  },
  {
   "cell_type": "code",
   "execution_count": 4,
   "metadata": {},
   "outputs": [],
   "source": [
    "import json\n",
    "with open(r'data_for_sunburst.json', 'w') as f:\n",
    "    json.dump(data_pair, f)"
   ]
  }
 ],
 "metadata": {
  "kernelspec": {
   "display_name": "Python 3",
   "language": "python",
   "name": "python3"
  },
  "language_info": {
   "codemirror_mode": {
    "name": "ipython",
    "version": 3
   },
   "file_extension": ".py",
   "mimetype": "text/x-python",
   "name": "python",
   "nbconvert_exporter": "python",
   "pygments_lexer": "ipython3",
   "version": "3.10.10"
  }
 },
 "nbformat": 4,
 "nbformat_minor": 2
}
