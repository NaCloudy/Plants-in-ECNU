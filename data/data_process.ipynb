{
 "cells": [
  {
   "cell_type": "code",
   "execution_count": 3,
   "metadata": {},
   "outputs": [],
   "source": [
    "import pandas as pd\n",
    "import numpy as np\n",
    "import openpyxl\n",
    "import json"
   ]
  },
  {
   "cell_type": "code",
   "execution_count": 4,
   "metadata": {},
   "outputs": [],
   "source": [
    "# 读取xlsx文件\n",
    "workbook = openpyxl.load_workbook('../culture/res.xlsx')\n",
    "sheet = workbook.active\n",
    "\n",
    "# 读取json文件\n",
    "with open('all_trees.json', 'r', encoding='utf-8') as file:\n",
    "    data = json.load(file)\n",
    "\n",
    "# 遍历json里每一个对象\n",
    "for obj in data:\n",
    "    template_id = obj['template']['id']\n",
    "  \n",
    "    # 在xlsx里找对应的行\n",
    "    for row in sheet.iter_rows(min_row=2, max_row=sheet.max_row, min_col=1, max_col=5):\n",
    "        if row[0].value == template_id:\n",
    "            key_phrase = row[4].value\n",
    "            if(key_phrase is None):\n",
    "                obj['key_phrase'] = \"暂无\"\n",
    "            else:\n",
    "              obj['key_phrase'] = key_phrase\n",
    "            break\n",
    "\n",
    "# 新增领养情况字段\n",
    "for obj in data:\n",
    "    if obj.get('owner') is None:\n",
    "        obj['hasOwner'] = \"暂无领养人\"\n",
    "        obj['ownerTime'] = \"暂无\"\n",
    "    else:\n",
    "        obj['hasOwner'] = \"已被来自\" + obj['owner']['title'] + \"的校友领养\"\n",
    "        obj['ownerTime'] = obj['owner']['updatedAt']\n",
    "\n",
    "# 对字符串和null做替换\n",
    "def replace_null_and_empty(obj):\n",
    "    for key, value in obj.items():\n",
    "        if value == \"\":\n",
    "            obj[key] = \"暂无\"\n",
    "        elif value is None:\n",
    "            obj[key] = \"暂无\"\n",
    "        elif isinstance(value, dict):\n",
    "            replace_null_and_empty(value)\n",
    "        elif isinstance(value, list):\n",
    "            for item in value:\n",
    "                if isinstance(item, dict):\n",
    "                    replace_null_and_empty(item)\n",
    "\n",
    "replace_null_and_empty(obj)\n",
    "\n",
    "# 写回json文件\n",
    "with open('all_trees_for_lib.json', 'w', encoding='utf-8') as file:\n",
    "    json.dump(data, file, ensure_ascii=False, indent=4)"
   ]
  }
 ],
 "metadata": {
  "kernelspec": {
   "display_name": "Python 3",
   "language": "python",
   "name": "python3"
  },
  "language_info": {
   "codemirror_mode": {
    "name": "ipython",
    "version": 3
   },
   "file_extension": ".py",
   "mimetype": "text/x-python",
   "name": "python",
   "nbconvert_exporter": "python",
   "pygments_lexer": "ipython3",
   "version": "3.10.10"
  }
 },
 "nbformat": 4,
 "nbformat_minor": 2
}
