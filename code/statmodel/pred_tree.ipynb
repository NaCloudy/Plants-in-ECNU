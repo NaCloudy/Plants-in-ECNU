{
 "cells": [
  {
   "cell_type": "markdown",
   "metadata": {},
   "source": [
    "代码对下一棵最有可能被领养的树进行了预测\n",
    "\n",
    "使用的特征为`template_1`, `likeCount`, `longitude`, `template_68`, `intercept`"
   ]
  },
  {
   "cell_type": "code",
   "execution_count": 1,
   "metadata": {},
   "outputs": [],
   "source": [
    "import pandas as pd\n",
    "import numpy as np\n",
    "import pylab as pl\n",
    "from sklearn import linear_model\n",
    "from statsmodels.formula.api import ols"
   ]
  },
  {
   "cell_type": "markdown",
   "metadata": {},
   "source": [
    "## 准备数据"
   ]
  },
  {
   "cell_type": "code",
   "execution_count": 91,
   "metadata": {},
   "outputs": [],
   "source": [
    "df = pd.read_json(\"../../data/all_trees.json\")"
   ]
  },
  {
   "cell_type": "code",
   "execution_count": 92,
   "metadata": {},
   "outputs": [],
   "source": [
    "data = df.loc[:,[\n",
    "  # 需要的数据\n",
    "  'id','owner', 'place', 'longitude', 'latitude', 'likeCount', 'template', \n",
    "  # 不考虑纳入模型的\n",
    "  'height', 'radius', 'subHeight', 'bottomHeight', \n",
    "  # 不需要的\n",
    "  # 'number', 'remark', 'qrcode','available', 'createdAt', 'updatedAt', 'images', 'user', \n",
    "  ]]"
   ]
  },
  {
   "cell_type": "code",
   "execution_count": 93,
   "metadata": {},
   "outputs": [],
   "source": [
    "for i in range(len(df)):\n",
    "  #template种类编号，habit习性\n",
    "  template_id = pd.json_normalize(data.loc[i,['template']])\n",
    "  data.loc[i,'template'] = template_id.loc[0,'id']\n",
    "  data.loc[i,'habit'] = template_id.loc[0,'habit']\n",
    "  #owner是否已被认养\n",
    "  if(data.loc[i,['owner']].isnull().values.any() == False):\n",
    "    data.loc[i,['owner']] = 1\n",
    "  else:\n",
    "    data.loc[i,['owner']] = 0\n",
    "  #place校区，中北1，闵行0\n",
    "  if(data.loc[i,['longitude']][0] >= 121.44 ):\n",
    "    data.loc[i,['place']] = 0\n",
    "  else: \n",
    "    data.loc[i,['place']] = 1"
   ]
  },
  {
   "cell_type": "code",
   "execution_count": 94,
   "metadata": {},
   "outputs": [],
   "source": [
    "data = data.fillna(0)\n",
    "data = data.replace('', 0)"
   ]
  },
  {
   "cell_type": "code",
   "execution_count": 95,
   "metadata": {},
   "outputs": [
    {
     "data": {
      "text/html": [
       "<div>\n",
       "<style scoped>\n",
       "    .dataframe tbody tr th:only-of-type {\n",
       "        vertical-align: middle;\n",
       "    }\n",
       "\n",
       "    .dataframe tbody tr th {\n",
       "        vertical-align: top;\n",
       "    }\n",
       "\n",
       "    .dataframe thead th {\n",
       "        text-align: right;\n",
       "    }\n",
       "</style>\n",
       "<table border=\"1\" class=\"dataframe\">\n",
       "  <thead>\n",
       "    <tr style=\"text-align: right;\">\n",
       "      <th></th>\n",
       "      <th>id</th>\n",
       "      <th>owner</th>\n",
       "      <th>place</th>\n",
       "      <th>longitude</th>\n",
       "      <th>latitude</th>\n",
       "      <th>likeCount</th>\n",
       "      <th>template</th>\n",
       "      <th>height</th>\n",
       "      <th>radius</th>\n",
       "      <th>subHeight</th>\n",
       "      <th>bottomHeight</th>\n",
       "      <th>habit</th>\n",
       "    </tr>\n",
       "  </thead>\n",
       "  <tbody>\n",
       "    <tr>\n",
       "      <th>0</th>\n",
       "      <td>3023</td>\n",
       "      <td>1</td>\n",
       "      <td>0</td>\n",
       "      <td>121.453962</td>\n",
       "      <td>31.032579</td>\n",
       "      <td>3</td>\n",
       "      <td>68</td>\n",
       "      <td>0</td>\n",
       "      <td>0</td>\n",
       "      <td>0</td>\n",
       "      <td>0</td>\n",
       "      <td>乔木</td>\n",
       "    </tr>\n",
       "    <tr>\n",
       "      <th>1</th>\n",
       "      <td>3021</td>\n",
       "      <td>0</td>\n",
       "      <td>0</td>\n",
       "      <td>121.454747</td>\n",
       "      <td>31.032390</td>\n",
       "      <td>0</td>\n",
       "      <td>223</td>\n",
       "      <td>0</td>\n",
       "      <td>0</td>\n",
       "      <td>0</td>\n",
       "      <td>0</td>\n",
       "      <td>草本</td>\n",
       "    </tr>\n",
       "    <tr>\n",
       "      <th>2</th>\n",
       "      <td>3020</td>\n",
       "      <td>0</td>\n",
       "      <td>0</td>\n",
       "      <td>121.451890</td>\n",
       "      <td>31.031580</td>\n",
       "      <td>0</td>\n",
       "      <td>222</td>\n",
       "      <td>2</td>\n",
       "      <td>6</td>\n",
       "      <td>1.5</td>\n",
       "      <td>0</td>\n",
       "      <td>乔木</td>\n",
       "    </tr>\n",
       "    <tr>\n",
       "      <th>3</th>\n",
       "      <td>3019</td>\n",
       "      <td>0</td>\n",
       "      <td>0</td>\n",
       "      <td>121.451762</td>\n",
       "      <td>31.029240</td>\n",
       "      <td>0</td>\n",
       "      <td>11</td>\n",
       "      <td>20</td>\n",
       "      <td>60</td>\n",
       "      <td>3.5</td>\n",
       "      <td>0</td>\n",
       "      <td>乔木</td>\n",
       "    </tr>\n",
       "    <tr>\n",
       "      <th>4</th>\n",
       "      <td>3018</td>\n",
       "      <td>0</td>\n",
       "      <td>0</td>\n",
       "      <td>121.450062</td>\n",
       "      <td>31.033594</td>\n",
       "      <td>2</td>\n",
       "      <td>30</td>\n",
       "      <td>0</td>\n",
       "      <td>0</td>\n",
       "      <td>0</td>\n",
       "      <td>0</td>\n",
       "      <td>乔木</td>\n",
       "    </tr>\n",
       "    <tr>\n",
       "      <th>...</th>\n",
       "      <td>...</td>\n",
       "      <td>...</td>\n",
       "      <td>...</td>\n",
       "      <td>...</td>\n",
       "      <td>...</td>\n",
       "      <td>...</td>\n",
       "      <td>...</td>\n",
       "      <td>...</td>\n",
       "      <td>...</td>\n",
       "      <td>...</td>\n",
       "      <td>...</td>\n",
       "      <td>...</td>\n",
       "    </tr>\n",
       "    <tr>\n",
       "      <th>2971</th>\n",
       "      <td>5</td>\n",
       "      <td>1</td>\n",
       "      <td>1</td>\n",
       "      <td>121.406714</td>\n",
       "      <td>31.226994</td>\n",
       "      <td>1</td>\n",
       "      <td>1</td>\n",
       "      <td>17.7</td>\n",
       "      <td>115</td>\n",
       "      <td>3.0</td>\n",
       "      <td>0</td>\n",
       "      <td>乔木</td>\n",
       "    </tr>\n",
       "    <tr>\n",
       "      <th>2972</th>\n",
       "      <td>4</td>\n",
       "      <td>1</td>\n",
       "      <td>1</td>\n",
       "      <td>121.406724</td>\n",
       "      <td>31.226958</td>\n",
       "      <td>2</td>\n",
       "      <td>1</td>\n",
       "      <td>21</td>\n",
       "      <td>89.8</td>\n",
       "      <td>6.5</td>\n",
       "      <td>0</td>\n",
       "      <td>乔木</td>\n",
       "    </tr>\n",
       "    <tr>\n",
       "      <th>2973</th>\n",
       "      <td>3</td>\n",
       "      <td>1</td>\n",
       "      <td>1</td>\n",
       "      <td>121.406559</td>\n",
       "      <td>31.227018</td>\n",
       "      <td>0</td>\n",
       "      <td>1</td>\n",
       "      <td>18</td>\n",
       "      <td>74</td>\n",
       "      <td>4.7</td>\n",
       "      <td>0</td>\n",
       "      <td>乔木</td>\n",
       "    </tr>\n",
       "    <tr>\n",
       "      <th>2974</th>\n",
       "      <td>2</td>\n",
       "      <td>1</td>\n",
       "      <td>1</td>\n",
       "      <td>121.406527</td>\n",
       "      <td>31.226913</td>\n",
       "      <td>0</td>\n",
       "      <td>1</td>\n",
       "      <td>26.3</td>\n",
       "      <td>120</td>\n",
       "      <td>5.3</td>\n",
       "      <td>0</td>\n",
       "      <td>乔木</td>\n",
       "    </tr>\n",
       "    <tr>\n",
       "      <th>2975</th>\n",
       "      <td>1</td>\n",
       "      <td>1</td>\n",
       "      <td>1</td>\n",
       "      <td>121.406427</td>\n",
       "      <td>31.226998</td>\n",
       "      <td>0</td>\n",
       "      <td>1</td>\n",
       "      <td>28.1</td>\n",
       "      <td>115</td>\n",
       "      <td>5.2</td>\n",
       "      <td>0</td>\n",
       "      <td>乔木</td>\n",
       "    </tr>\n",
       "  </tbody>\n",
       "</table>\n",
       "<p>2976 rows × 12 columns</p>\n",
       "</div>"
      ],
      "text/plain": [
       "        id  owner  place   longitude   latitude  likeCount  template height   \n",
       "0     3023      1      0  121.453962  31.032579          3        68      0  \\\n",
       "1     3021      0      0  121.454747  31.032390          0       223      0   \n",
       "2     3020      0      0  121.451890  31.031580          0       222      2   \n",
       "3     3019      0      0  121.451762  31.029240          0        11     20   \n",
       "4     3018      0      0  121.450062  31.033594          2        30      0   \n",
       "...    ...    ...    ...         ...        ...        ...       ...    ...   \n",
       "2971     5      1      1  121.406714  31.226994          1         1   17.7   \n",
       "2972     4      1      1  121.406724  31.226958          2         1     21   \n",
       "2973     3      1      1  121.406559  31.227018          0         1     18   \n",
       "2974     2      1      1  121.406527  31.226913          0         1   26.3   \n",
       "2975     1      1      1  121.406427  31.226998          0         1   28.1   \n",
       "\n",
       "     radius subHeight bottomHeight habit  \n",
       "0         0         0            0    乔木  \n",
       "1         0         0            0    草本  \n",
       "2         6       1.5            0    乔木  \n",
       "3        60       3.5            0    乔木  \n",
       "4         0         0            0    乔木  \n",
       "...     ...       ...          ...   ...  \n",
       "2971    115       3.0            0    乔木  \n",
       "2972   89.8      6.5             0    乔木  \n",
       "2973     74       4.7            0    乔木  \n",
       "2974    120       5.3            0    乔木  \n",
       "2975    115       5.2            0    乔木  \n",
       "\n",
       "[2976 rows x 12 columns]"
      ]
     },
     "execution_count": 95,
     "metadata": {},
     "output_type": "execute_result"
    }
   ],
   "source": [
    "data"
   ]
  },
  {
   "cell_type": "code",
   "execution_count": 101,
   "metadata": {},
   "outputs": [],
   "source": [
    "train_cols = ['owner', 'longitude', 'latitude', 'likeCount']\n",
    "dummy_ranks = pd.get_dummies(data['template'], prefix='template')\n",
    "train_data = data[train_cols].join(dummy_ranks.loc[:,:])\n",
    "train_data['intercept'] = 1.0"
   ]
  },
  {
   "cell_type": "markdown",
   "metadata": {},
   "source": [
    "## 变量筛选"
   ]
  },
  {
   "cell_type": "code",
   "execution_count": 102,
   "metadata": {},
   "outputs": [
    {
     "name": "stdout",
     "output_type": "stream",
     "text": [
      "aic is -1240.3587452709498,continuing!\n",
      "aic is -1510.7409305560604,continuing!\n",
      "aic is -1554.729806112292,continuing!\n",
      "aic is -1559.0419881847583,continuing!\n",
      "aic is -1559.0419881847674,continuing!\n",
      "for selection over!\n",
      "final formula is owner~template_1+likeCount+longitude+template_68+intercept\n"
     ]
    },
    {
     "data": {
      "text/plain": [
       "<statsmodels.regression.linear_model.RegressionResultsWrapper at 0x2a4c3412140>"
      ]
     },
     "execution_count": 102,
     "metadata": {},
     "output_type": "execute_result"
    }
   ],
   "source": [
    "#定义向前逐步回归函数\n",
    "def forward_select(data,target):\n",
    "    variate = set(data.columns)  #将字段名转换成字典类型\n",
    "    variate.remove(target)  #去掉因变量的字段名\n",
    "    selected = []\n",
    "    current_score = float('inf') \n",
    "    best_new_score = float('inf')  #目前的分数和最好分数初始值都为无穷大（因为AIC越小越好）\n",
    "    #循环筛选变量\n",
    "    while variate:\n",
    "        aic_with_variate = []\n",
    "        for candidate in variate:  #逐个遍历自变量\n",
    "            formula = \"{}~{}\".format(target,\"+\".join(selected+[candidate]))  #将自变量名连接起来\n",
    "            aic = ols(formula = formula,data = data).fit().aic  #利用ols训练模型得出aic值\n",
    "            aic_with_variate.append((aic,candidate))  #将第每一次的aic值放进空列表\n",
    "        aic_with_variate.sort(reverse = True)  #降序排序aic值\n",
    "        best_new_score,best_candidate = aic_with_variate.pop()  #最好的aic值等于删除列表的最后一个值，以及最好的自变量等于列表最后一个自变量\n",
    "        if current_score > best_new_score:  #如果目前的aic值大于最好的aic值\n",
    "            variate.remove(best_candidate)  #移除加进来的变量名，即第二次循环时，不考虑此自变量了\n",
    "            selected.append(best_candidate)  #将此自变量作为加进模型中的自变量\n",
    "            current_score = best_new_score  #最新的分数等于最好的分数\n",
    "            print(\"aic is {},continuing!\".format(current_score))  #输出最小的aic值\n",
    "        else:\n",
    "            print(\"for selection over!\")\n",
    "            break\n",
    "    formula = \"{}~{}\".format(target,\"+\".join(selected))  #最终的模型式子\n",
    "    print(\"final formula is {}\".format(formula))\n",
    "    model = ols(formula = formula,data = data).fit()\n",
    "    return(model)\n",
    "\n",
    "# 利用向前逐步回归筛选变量\n",
    "forward_select(data = train_data,target='owner')\n"
   ]
  },
  {
   "cell_type": "code",
   "execution_count": 103,
   "metadata": {},
   "outputs": [],
   "source": [
    "train_cols = ['template_1','likeCount','longitude','template_68','intercept']"
   ]
  },
  {
   "cell_type": "markdown",
   "metadata": {},
   "source": [
    "## 训练模型"
   ]
  },
  {
   "cell_type": "code",
   "execution_count": 104,
   "metadata": {},
   "outputs": [
    {
     "data": {
      "text/html": [
       "<style>#sk-container-id-3 {color: black;}#sk-container-id-3 pre{padding: 0;}#sk-container-id-3 div.sk-toggleable {background-color: white;}#sk-container-id-3 label.sk-toggleable__label {cursor: pointer;display: block;width: 100%;margin-bottom: 0;padding: 0.3em;box-sizing: border-box;text-align: center;}#sk-container-id-3 label.sk-toggleable__label-arrow:before {content: \"▸\";float: left;margin-right: 0.25em;color: #696969;}#sk-container-id-3 label.sk-toggleable__label-arrow:hover:before {color: black;}#sk-container-id-3 div.sk-estimator:hover label.sk-toggleable__label-arrow:before {color: black;}#sk-container-id-3 div.sk-toggleable__content {max-height: 0;max-width: 0;overflow: hidden;text-align: left;background-color: #f0f8ff;}#sk-container-id-3 div.sk-toggleable__content pre {margin: 0.2em;color: black;border-radius: 0.25em;background-color: #f0f8ff;}#sk-container-id-3 input.sk-toggleable__control:checked~div.sk-toggleable__content {max-height: 200px;max-width: 100%;overflow: auto;}#sk-container-id-3 input.sk-toggleable__control:checked~label.sk-toggleable__label-arrow:before {content: \"▾\";}#sk-container-id-3 div.sk-estimator input.sk-toggleable__control:checked~label.sk-toggleable__label {background-color: #d4ebff;}#sk-container-id-3 div.sk-label input.sk-toggleable__control:checked~label.sk-toggleable__label {background-color: #d4ebff;}#sk-container-id-3 input.sk-hidden--visually {border: 0;clip: rect(1px 1px 1px 1px);clip: rect(1px, 1px, 1px, 1px);height: 1px;margin: -1px;overflow: hidden;padding: 0;position: absolute;width: 1px;}#sk-container-id-3 div.sk-estimator {font-family: monospace;background-color: #f0f8ff;border: 1px dotted black;border-radius: 0.25em;box-sizing: border-box;margin-bottom: 0.5em;}#sk-container-id-3 div.sk-estimator:hover {background-color: #d4ebff;}#sk-container-id-3 div.sk-parallel-item::after {content: \"\";width: 100%;border-bottom: 1px solid gray;flex-grow: 1;}#sk-container-id-3 div.sk-label:hover label.sk-toggleable__label {background-color: #d4ebff;}#sk-container-id-3 div.sk-serial::before {content: \"\";position: absolute;border-left: 1px solid gray;box-sizing: border-box;top: 0;bottom: 0;left: 50%;z-index: 0;}#sk-container-id-3 div.sk-serial {display: flex;flex-direction: column;align-items: center;background-color: white;padding-right: 0.2em;padding-left: 0.2em;position: relative;}#sk-container-id-3 div.sk-item {position: relative;z-index: 1;}#sk-container-id-3 div.sk-parallel {display: flex;align-items: stretch;justify-content: center;background-color: white;position: relative;}#sk-container-id-3 div.sk-item::before, #sk-container-id-3 div.sk-parallel-item::before {content: \"\";position: absolute;border-left: 1px solid gray;box-sizing: border-box;top: 0;bottom: 0;left: 50%;z-index: -1;}#sk-container-id-3 div.sk-parallel-item {display: flex;flex-direction: column;z-index: 1;position: relative;background-color: white;}#sk-container-id-3 div.sk-parallel-item:first-child::after {align-self: flex-end;width: 50%;}#sk-container-id-3 div.sk-parallel-item:last-child::after {align-self: flex-start;width: 50%;}#sk-container-id-3 div.sk-parallel-item:only-child::after {width: 0;}#sk-container-id-3 div.sk-dashed-wrapped {border: 1px dashed gray;margin: 0 0.4em 0.5em 0.4em;box-sizing: border-box;padding-bottom: 0.4em;background-color: white;}#sk-container-id-3 div.sk-label label {font-family: monospace;font-weight: bold;display: inline-block;line-height: 1.2em;}#sk-container-id-3 div.sk-label-container {text-align: center;}#sk-container-id-3 div.sk-container {/* jupyter's `normalize.less` sets `[hidden] { display: none; }` but bootstrap.min.css set `[hidden] { display: none !important; }` so we also need the `!important` here to be able to override the default hidden behavior on the sphinx rendered scikit-learn.org. See: https://github.com/scikit-learn/scikit-learn/issues/21755 */display: inline-block !important;position: relative;}#sk-container-id-3 div.sk-text-repr-fallback {display: none;}</style><div id=\"sk-container-id-3\" class=\"sk-top-container\"><div class=\"sk-text-repr-fallback\"><pre>LogisticRegression()</pre><b>In a Jupyter environment, please rerun this cell to show the HTML representation or trust the notebook. <br />On GitHub, the HTML representation is unable to render, please try loading this page with nbviewer.org.</b></div><div class=\"sk-container\" hidden><div class=\"sk-item\"><div class=\"sk-estimator sk-toggleable\"><input class=\"sk-toggleable__control sk-hidden--visually\" id=\"sk-estimator-id-3\" type=\"checkbox\" checked><label for=\"sk-estimator-id-3\" class=\"sk-toggleable__label sk-toggleable__label-arrow\">LogisticRegression</label><div class=\"sk-toggleable__content\"><pre>LogisticRegression()</pre></div></div></div></div></div>"
      ],
      "text/plain": [
       "LogisticRegression()"
      ]
     },
     "execution_count": 104,
     "metadata": {},
     "output_type": "execute_result"
    }
   ],
   "source": [
    "log_reg = linear_model.LogisticRegression()\n",
    "log_reg.fit(train_data[train_cols].astype(float), train_data['owner'])"
   ]
  },
  {
   "cell_type": "code",
   "execution_count": 106,
   "metadata": {},
   "outputs": [
    {
     "data": {
      "text/plain": [
       "array([[ 5.18132203,  1.30891004, -0.05450198,  0.81946388,  0.00917449]])"
      ]
     },
     "execution_count": 106,
     "metadata": {},
     "output_type": "execute_result"
    }
   ],
   "source": [
    "log_reg.coef_"
   ]
  },
  {
   "cell_type": "markdown",
   "metadata": {},
   "source": [
    "### 模型为\n",
    "$$log(\\frac{p}{1-p}) = 5.18 * template_1 + 1.31 * likecount - 0.05 *longitude + 0.82 * template_{68} + 0.01$$"
   ]
  },
  {
   "cell_type": "markdown",
   "metadata": {},
   "source": [
    "## 代回原数据进行预测"
   ]
  },
  {
   "cell_type": "code",
   "execution_count": 107,
   "metadata": {},
   "outputs": [
    {
     "name": "stdout",
     "output_type": "stream",
     "text": [
      "test data accuracy is : 0.960013440860215\n"
     ]
    }
   ],
   "source": [
    "pred = log_reg.predict_proba(train_data[train_cols].astype(float))\n",
    "accuracy = log_reg.score(train_data[train_cols].astype(float), train_data['owner'])\n",
    "\n",
    "print(\"test data accuracy is :\", accuracy)"
   ]
  },
  {
   "cell_type": "code",
   "execution_count": 83,
   "metadata": {},
   "outputs": [],
   "source": [
    "pre_0 = pd.Series(pred[:, 0], name='pre_0')\n",
    "pre_1 = pd.Series(pred[:, 1], name='pre_1')"
   ]
  },
  {
   "cell_type": "code",
   "execution_count": 111,
   "metadata": {},
   "outputs": [],
   "source": [
    "final_data = data.join(dummy_ranks.loc[:,:])\n",
    "final_data.insert(2,'pre_0',pre_0)\n",
    "final_data.insert(3,'pre_1',pre_1)"
   ]
  },
  {
   "cell_type": "code",
   "execution_count": 124,
   "metadata": {},
   "outputs": [],
   "source": [
    "outputpath=r'D:\\Repos\\myprj\\Plants-in-ECNU\\code\\statmodel\\pred_tree.csv'\n",
    "final_data.to_csv(outputpath,sep=',',index=False,header=True)"
   ]
  },
  {
   "cell_type": "markdown",
   "metadata": {},
   "source": [
    "### 下一个最有可能被领养的植物是 : id=368"
   ]
  },
  {
   "cell_type": "code",
   "execution_count": 125,
   "metadata": {},
   "outputs": [
    {
     "data": {
      "text/plain": [
       "id                   368\n",
       "owner                  0\n",
       "pre_0           0.021474\n",
       "pre_1           0.978526\n",
       "place                  1\n",
       "                  ...   \n",
       "template_218       False\n",
       "template_220       False\n",
       "template_221       False\n",
       "template_222       False\n",
       "template_223       False\n",
       "Name: 2636, Length: 208, dtype: object"
      ]
     },
     "execution_count": 125,
     "metadata": {},
     "output_type": "execute_result"
    }
   ],
   "source": [
    "temp =  final_data[train_data['owner'] == 0]\n",
    "max_index = temp['pre_1'].idxmax()\n",
    "max_record = temp.loc[max_index,:]\n",
    "max_record"
   ]
  }
 ],
 "metadata": {
  "kernelspec": {
   "display_name": "Python 3",
   "language": "python",
   "name": "python3"
  },
  "language_info": {
   "codemirror_mode": {
    "name": "ipython",
    "version": 3
   },
   "file_extension": ".py",
   "mimetype": "text/x-python",
   "name": "python",
   "nbconvert_exporter": "python",
   "pygments_lexer": "ipython3",
   "version": "3.10.10"
  }
 },
 "nbformat": 4,
 "nbformat_minor": 2
}
