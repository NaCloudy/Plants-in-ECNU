{
 "cells": [
  {
   "cell_type": "markdown",
   "metadata": {},
   "source": [
    "代码对下一棵最有可能被领养的树进行了预测\n",
    "\n",
    "使用的特征为`template_1`, `likeCount`, `longitude`, `template_68`, `intercept`"
   ]
  },
  {
   "cell_type": "code",
   "execution_count": 1,
   "metadata": {},
   "outputs": [],
   "source": [
    "import pandas as pd\n",
    "import numpy as np\n",
    "\n",
    "import matplotlib.pyplot as plt\n",
    "import matplotlib\n",
    "\n",
    "from sklearn.svm import SVC\n",
    "from sklearn.model_selection import train_test_split\n",
    "from sklearn.metrics import roc_auc_score, recall_score\n",
    "from sklearn.metrics import confusion_matrix\n",
    "\n",
    "matplotlib.rcParams['axes.unicode_minus'] =False # 显示负号"
   ]
  },
  {
   "cell_type": "markdown",
   "metadata": {},
   "source": [
    "## 准备数据"
   ]
  },
  {
   "cell_type": "code",
   "execution_count": 2,
   "metadata": {},
   "outputs": [],
   "source": [
    "# 读data\n",
    "df = pd.read_json(\"../../data/all_trees.json\")"
   ]
  },
  {
   "cell_type": "code",
   "execution_count": 3,
   "metadata": {},
   "outputs": [],
   "source": [
    "# 后续还需要保留的变量\n",
    "data = df.loc[:,[\n",
    "  # 需要的数据\n",
    "  'id','owner', 'place', 'longitude', 'latitude', 'likeCount', 'template', \n",
    "  # 不考虑纳入模型的\n",
    "  'height', 'radius', 'subHeight', 'bottomHeight', \n",
    "  # 不需要的\n",
    "  # 'number', 'remark', 'qrcode','available', 'createdAt', 'updatedAt', 'images', 'user', \n",
    "  ]]"
   ]
  },
  {
   "cell_type": "code",
   "execution_count": 4,
   "metadata": {},
   "outputs": [],
   "source": [
    "# 解析json\n",
    "for i in range(len(df)):\n",
    "  #template种类编号，habit习性\n",
    "  template_id = pd.json_normalize(data.loc[i,['template']])\n",
    "  data.loc[i,'template'] = template_id.loc[0,'id']\n",
    "  data.loc[i,'habit'] = template_id.loc[0,'habit']\n",
    "  #owner是否已被认养\n",
    "  if(data.loc[i,['owner']].isnull().values.any() == False):\n",
    "    data.loc[i,['owner']] = 1\n",
    "  else:\n",
    "    data.loc[i,['owner']] = 0\n",
    "  #place校区，中北1，闵行0\n",
    "  if(data.loc[i,['longitude']][0] >= 121.44 ):\n",
    "    data.loc[i,['place']] = 0\n",
    "  else: \n",
    "    data.loc[i,['place']] = 1"
   ]
  },
  {
   "cell_type": "code",
   "execution_count": 5,
   "metadata": {},
   "outputs": [],
   "source": [
    "# 异常值处理\n",
    "data = data.fillna(0)\n",
    "data = data.replace('', 0)"
   ]
  },
  {
   "cell_type": "code",
   "execution_count": 6,
   "metadata": {},
   "outputs": [
    {
     "data": {
      "text/html": [
       "<div>\n",
       "<style scoped>\n",
       "    .dataframe tbody tr th:only-of-type {\n",
       "        vertical-align: middle;\n",
       "    }\n",
       "\n",
       "    .dataframe tbody tr th {\n",
       "        vertical-align: top;\n",
       "    }\n",
       "\n",
       "    .dataframe thead th {\n",
       "        text-align: right;\n",
       "    }\n",
       "</style>\n",
       "<table border=\"1\" class=\"dataframe\">\n",
       "  <thead>\n",
       "    <tr style=\"text-align: right;\">\n",
       "      <th></th>\n",
       "      <th>id</th>\n",
       "      <th>owner</th>\n",
       "      <th>place</th>\n",
       "      <th>longitude</th>\n",
       "      <th>latitude</th>\n",
       "      <th>likeCount</th>\n",
       "      <th>template</th>\n",
       "      <th>height</th>\n",
       "      <th>radius</th>\n",
       "      <th>subHeight</th>\n",
       "      <th>bottomHeight</th>\n",
       "      <th>habit</th>\n",
       "    </tr>\n",
       "  </thead>\n",
       "  <tbody>\n",
       "    <tr>\n",
       "      <th>0</th>\n",
       "      <td>3023</td>\n",
       "      <td>1</td>\n",
       "      <td>0</td>\n",
       "      <td>121.453962</td>\n",
       "      <td>31.032579</td>\n",
       "      <td>3</td>\n",
       "      <td>68</td>\n",
       "      <td>0</td>\n",
       "      <td>0</td>\n",
       "      <td>0</td>\n",
       "      <td>0</td>\n",
       "      <td>乔木</td>\n",
       "    </tr>\n",
       "    <tr>\n",
       "      <th>1</th>\n",
       "      <td>3021</td>\n",
       "      <td>0</td>\n",
       "      <td>0</td>\n",
       "      <td>121.454747</td>\n",
       "      <td>31.032390</td>\n",
       "      <td>0</td>\n",
       "      <td>223</td>\n",
       "      <td>0</td>\n",
       "      <td>0</td>\n",
       "      <td>0</td>\n",
       "      <td>0</td>\n",
       "      <td>草本</td>\n",
       "    </tr>\n",
       "    <tr>\n",
       "      <th>2</th>\n",
       "      <td>3020</td>\n",
       "      <td>0</td>\n",
       "      <td>0</td>\n",
       "      <td>121.451890</td>\n",
       "      <td>31.031580</td>\n",
       "      <td>0</td>\n",
       "      <td>222</td>\n",
       "      <td>2</td>\n",
       "      <td>6</td>\n",
       "      <td>1.5</td>\n",
       "      <td>0</td>\n",
       "      <td>乔木</td>\n",
       "    </tr>\n",
       "    <tr>\n",
       "      <th>3</th>\n",
       "      <td>3019</td>\n",
       "      <td>0</td>\n",
       "      <td>0</td>\n",
       "      <td>121.451762</td>\n",
       "      <td>31.029240</td>\n",
       "      <td>0</td>\n",
       "      <td>11</td>\n",
       "      <td>20</td>\n",
       "      <td>60</td>\n",
       "      <td>3.5</td>\n",
       "      <td>0</td>\n",
       "      <td>乔木</td>\n",
       "    </tr>\n",
       "    <tr>\n",
       "      <th>4</th>\n",
       "      <td>3018</td>\n",
       "      <td>0</td>\n",
       "      <td>0</td>\n",
       "      <td>121.450062</td>\n",
       "      <td>31.033594</td>\n",
       "      <td>2</td>\n",
       "      <td>30</td>\n",
       "      <td>0</td>\n",
       "      <td>0</td>\n",
       "      <td>0</td>\n",
       "      <td>0</td>\n",
       "      <td>乔木</td>\n",
       "    </tr>\n",
       "    <tr>\n",
       "      <th>...</th>\n",
       "      <td>...</td>\n",
       "      <td>...</td>\n",
       "      <td>...</td>\n",
       "      <td>...</td>\n",
       "      <td>...</td>\n",
       "      <td>...</td>\n",
       "      <td>...</td>\n",
       "      <td>...</td>\n",
       "      <td>...</td>\n",
       "      <td>...</td>\n",
       "      <td>...</td>\n",
       "      <td>...</td>\n",
       "    </tr>\n",
       "    <tr>\n",
       "      <th>2971</th>\n",
       "      <td>5</td>\n",
       "      <td>1</td>\n",
       "      <td>1</td>\n",
       "      <td>121.406714</td>\n",
       "      <td>31.226994</td>\n",
       "      <td>1</td>\n",
       "      <td>1</td>\n",
       "      <td>17.7</td>\n",
       "      <td>115</td>\n",
       "      <td>3.0</td>\n",
       "      <td>0</td>\n",
       "      <td>乔木</td>\n",
       "    </tr>\n",
       "    <tr>\n",
       "      <th>2972</th>\n",
       "      <td>4</td>\n",
       "      <td>1</td>\n",
       "      <td>1</td>\n",
       "      <td>121.406724</td>\n",
       "      <td>31.226958</td>\n",
       "      <td>2</td>\n",
       "      <td>1</td>\n",
       "      <td>21</td>\n",
       "      <td>89.8</td>\n",
       "      <td>6.5</td>\n",
       "      <td>0</td>\n",
       "      <td>乔木</td>\n",
       "    </tr>\n",
       "    <tr>\n",
       "      <th>2973</th>\n",
       "      <td>3</td>\n",
       "      <td>1</td>\n",
       "      <td>1</td>\n",
       "      <td>121.406559</td>\n",
       "      <td>31.227018</td>\n",
       "      <td>0</td>\n",
       "      <td>1</td>\n",
       "      <td>18</td>\n",
       "      <td>74</td>\n",
       "      <td>4.7</td>\n",
       "      <td>0</td>\n",
       "      <td>乔木</td>\n",
       "    </tr>\n",
       "    <tr>\n",
       "      <th>2974</th>\n",
       "      <td>2</td>\n",
       "      <td>1</td>\n",
       "      <td>1</td>\n",
       "      <td>121.406527</td>\n",
       "      <td>31.226913</td>\n",
       "      <td>0</td>\n",
       "      <td>1</td>\n",
       "      <td>26.3</td>\n",
       "      <td>120</td>\n",
       "      <td>5.3</td>\n",
       "      <td>0</td>\n",
       "      <td>乔木</td>\n",
       "    </tr>\n",
       "    <tr>\n",
       "      <th>2975</th>\n",
       "      <td>1</td>\n",
       "      <td>1</td>\n",
       "      <td>1</td>\n",
       "      <td>121.406427</td>\n",
       "      <td>31.226998</td>\n",
       "      <td>0</td>\n",
       "      <td>1</td>\n",
       "      <td>28.1</td>\n",
       "      <td>115</td>\n",
       "      <td>5.2</td>\n",
       "      <td>0</td>\n",
       "      <td>乔木</td>\n",
       "    </tr>\n",
       "  </tbody>\n",
       "</table>\n",
       "<p>2976 rows × 12 columns</p>\n",
       "</div>"
      ],
      "text/plain": [
       "        id  owner  place   longitude   latitude  likeCount  template height   \n",
       "0     3023      1      0  121.453962  31.032579          3        68      0  \\\n",
       "1     3021      0      0  121.454747  31.032390          0       223      0   \n",
       "2     3020      0      0  121.451890  31.031580          0       222      2   \n",
       "3     3019      0      0  121.451762  31.029240          0        11     20   \n",
       "4     3018      0      0  121.450062  31.033594          2        30      0   \n",
       "...    ...    ...    ...         ...        ...        ...       ...    ...   \n",
       "2971     5      1      1  121.406714  31.226994          1         1   17.7   \n",
       "2972     4      1      1  121.406724  31.226958          2         1     21   \n",
       "2973     3      1      1  121.406559  31.227018          0         1     18   \n",
       "2974     2      1      1  121.406527  31.226913          0         1   26.3   \n",
       "2975     1      1      1  121.406427  31.226998          0         1   28.1   \n",
       "\n",
       "     radius subHeight bottomHeight habit  \n",
       "0         0         0            0    乔木  \n",
       "1         0         0            0    草本  \n",
       "2         6       1.5            0    乔木  \n",
       "3        60       3.5            0    乔木  \n",
       "4         0         0            0    乔木  \n",
       "...     ...       ...          ...   ...  \n",
       "2971    115       3.0            0    乔木  \n",
       "2972   89.8      6.5             0    乔木  \n",
       "2973     74       4.7            0    乔木  \n",
       "2974    120       5.3            0    乔木  \n",
       "2975    115       5.2            0    乔木  \n",
       "\n",
       "[2976 rows x 12 columns]"
      ]
     },
     "execution_count": 6,
     "metadata": {},
     "output_type": "execute_result"
    }
   ],
   "source": [
    "# 数据\n",
    "data"
   ]
  },
  {
   "cell_type": "code",
   "execution_count": 7,
   "metadata": {},
   "outputs": [],
   "source": [
    "# 训练所用变量\n",
    "train_cols = ['owner', 'longitude', 'latitude', 'likeCount', 'template']\n",
    "train_data = data.loc[:,train_cols]"
   ]
  },
  {
   "cell_type": "code",
   "execution_count": 8,
   "metadata": {},
   "outputs": [
    {
     "data": {
      "text/html": [
       "<div>\n",
       "<style scoped>\n",
       "    .dataframe tbody tr th:only-of-type {\n",
       "        vertical-align: middle;\n",
       "    }\n",
       "\n",
       "    .dataframe tbody tr th {\n",
       "        vertical-align: top;\n",
       "    }\n",
       "\n",
       "    .dataframe thead th {\n",
       "        text-align: right;\n",
       "    }\n",
       "</style>\n",
       "<table border=\"1\" class=\"dataframe\">\n",
       "  <thead>\n",
       "    <tr style=\"text-align: right;\">\n",
       "      <th></th>\n",
       "      <th>owner</th>\n",
       "      <th>longitude</th>\n",
       "      <th>latitude</th>\n",
       "      <th>likeCount</th>\n",
       "      <th>template</th>\n",
       "    </tr>\n",
       "  </thead>\n",
       "  <tbody>\n",
       "    <tr>\n",
       "      <th>0</th>\n",
       "      <td>1</td>\n",
       "      <td>121.453962</td>\n",
       "      <td>31.032579</td>\n",
       "      <td>3</td>\n",
       "      <td>68</td>\n",
       "    </tr>\n",
       "    <tr>\n",
       "      <th>1</th>\n",
       "      <td>0</td>\n",
       "      <td>121.454747</td>\n",
       "      <td>31.032390</td>\n",
       "      <td>0</td>\n",
       "      <td>223</td>\n",
       "    </tr>\n",
       "    <tr>\n",
       "      <th>2</th>\n",
       "      <td>0</td>\n",
       "      <td>121.451890</td>\n",
       "      <td>31.031580</td>\n",
       "      <td>0</td>\n",
       "      <td>222</td>\n",
       "    </tr>\n",
       "    <tr>\n",
       "      <th>3</th>\n",
       "      <td>0</td>\n",
       "      <td>121.451762</td>\n",
       "      <td>31.029240</td>\n",
       "      <td>0</td>\n",
       "      <td>11</td>\n",
       "    </tr>\n",
       "    <tr>\n",
       "      <th>4</th>\n",
       "      <td>0</td>\n",
       "      <td>121.450062</td>\n",
       "      <td>31.033594</td>\n",
       "      <td>2</td>\n",
       "      <td>30</td>\n",
       "    </tr>\n",
       "    <tr>\n",
       "      <th>...</th>\n",
       "      <td>...</td>\n",
       "      <td>...</td>\n",
       "      <td>...</td>\n",
       "      <td>...</td>\n",
       "      <td>...</td>\n",
       "    </tr>\n",
       "    <tr>\n",
       "      <th>2971</th>\n",
       "      <td>1</td>\n",
       "      <td>121.406714</td>\n",
       "      <td>31.226994</td>\n",
       "      <td>1</td>\n",
       "      <td>1</td>\n",
       "    </tr>\n",
       "    <tr>\n",
       "      <th>2972</th>\n",
       "      <td>1</td>\n",
       "      <td>121.406724</td>\n",
       "      <td>31.226958</td>\n",
       "      <td>2</td>\n",
       "      <td>1</td>\n",
       "    </tr>\n",
       "    <tr>\n",
       "      <th>2973</th>\n",
       "      <td>1</td>\n",
       "      <td>121.406559</td>\n",
       "      <td>31.227018</td>\n",
       "      <td>0</td>\n",
       "      <td>1</td>\n",
       "    </tr>\n",
       "    <tr>\n",
       "      <th>2974</th>\n",
       "      <td>1</td>\n",
       "      <td>121.406527</td>\n",
       "      <td>31.226913</td>\n",
       "      <td>0</td>\n",
       "      <td>1</td>\n",
       "    </tr>\n",
       "    <tr>\n",
       "      <th>2975</th>\n",
       "      <td>1</td>\n",
       "      <td>121.406427</td>\n",
       "      <td>31.226998</td>\n",
       "      <td>0</td>\n",
       "      <td>1</td>\n",
       "    </tr>\n",
       "  </tbody>\n",
       "</table>\n",
       "<p>2976 rows × 5 columns</p>\n",
       "</div>"
      ],
      "text/plain": [
       "      owner   longitude   latitude  likeCount  template\n",
       "0         1  121.453962  31.032579          3        68\n",
       "1         0  121.454747  31.032390          0       223\n",
       "2         0  121.451890  31.031580          0       222\n",
       "3         0  121.451762  31.029240          0        11\n",
       "4         0  121.450062  31.033594          2        30\n",
       "...     ...         ...        ...        ...       ...\n",
       "2971      1  121.406714  31.226994          1         1\n",
       "2972      1  121.406724  31.226958          2         1\n",
       "2973      1  121.406559  31.227018          0         1\n",
       "2974      1  121.406527  31.226913          0         1\n",
       "2975      1  121.406427  31.226998          0         1\n",
       "\n",
       "[2976 rows x 5 columns]"
      ]
     },
     "execution_count": 8,
     "metadata": {},
     "output_type": "execute_result"
    }
   ],
   "source": [
    "train_data"
   ]
  },
  {
   "cell_type": "code",
   "execution_count": 9,
   "metadata": {},
   "outputs": [],
   "source": [
    "# 划分X和Y\n",
    "train_features = train_data.loc[:,['longitude', 'latitude', 'likeCount', 'template']]\n",
    "train_labels = train_data.loc[:,\"owner\"]"
   ]
  },
  {
   "cell_type": "code",
   "execution_count": 10,
   "metadata": {},
   "outputs": [
    {
     "data": {
      "text/plain": [
       "(2976, 4)"
      ]
     },
     "execution_count": 10,
     "metadata": {},
     "output_type": "execute_result"
    }
   ],
   "source": [
    "# 查看n和p\n",
    "train_features.shape #y = 1的比例：154/2976"
   ]
  },
  {
   "cell_type": "code",
   "execution_count": 11,
   "metadata": {},
   "outputs": [
    {
     "name": "stdout",
     "output_type": "stream",
     "text": [
      " \n",
      "owner\n",
      "0    1975\n",
      "1     108\n",
      "Name: count, dtype: int64\n"
     ]
    }
   ],
   "source": [
    "# 划分 train 和 test\n",
    "Xtrain, Xtest, Ytrain, Ytest = train_test_split(train_features, train_labels, test_size=0.3, random_state=420)\n",
    "for i in [Xtrain, Xtest, Ytrain, Ytest]:\n",
    "    i.index = range(i.shape[0])\n",
    "print(\" \")\n",
    "print(Ytrain.value_counts())"
   ]
  },
  {
   "cell_type": "markdown",
   "metadata": {},
   "source": [
    "## 训练"
   ]
  },
  {
   "cell_type": "code",
   "execution_count": 12,
   "metadata": {},
   "outputs": [
    {
     "name": "stdout",
     "output_type": "stream",
     "text": [
      "0.7518002880460873\n"
     ]
    }
   ],
   "source": [
    "# 使用svc\n",
    "svc = SVC(kernel='sigmoid', C=1.0, class_weight={1:10}, probability=True)\n",
    "svc.fit(Xtrain, Ytrain)\n",
    "print(svc.score(Xtrain, Ytrain))"
   ]
  },
  {
   "cell_type": "markdown",
   "metadata": {},
   "source": [
    "## 测试"
   ]
  },
  {
   "cell_type": "code",
   "execution_count": 13,
   "metadata": {},
   "outputs": [
    {
     "name": "stdout",
     "output_type": "stream",
     "text": [
      "testing accuracy 0.725644, recall is 1.000000, auc is 0.985709\n"
     ]
    }
   ],
   "source": [
    "# 结果及效果\n",
    "result = svc.predict(Xtest)\n",
    "score = svc.score(Xtest, Ytest)\n",
    "recall = recall_score(Ytest, result)\n",
    "auc = roc_auc_score(Ytest, svc.decision_function(Xtest))\n",
    "print(\"testing accuracy %f, recall is %f, auc is %f\" % (score, recall, auc))"
   ]
  },
  {
   "cell_type": "code",
   "execution_count": 14,
   "metadata": {},
   "outputs": [
    {
     "name": "stdout",
     "output_type": "stream",
     "text": [
      "(40,)\n",
      "(40,)\n",
      "(40,)\n"
     ]
    },
    {
     "data": {
      "image/png": "[encoded data removed]",
      "text/plain": [
       "<Figure size 640x480 with 1 Axes>"
      ]
     },
     "metadata": {},
     "output_type": "display_data"
    }
   ],
   "source": [
    "# 绘制roc曲线来评价结果\n",
    "from sklearn.metrics import roc_curve\n",
    "\n",
    "FPR, recall, thresholds = roc_curve(y_true=Ytest,  \n",
    "                                    y_score=svc.decision_function(Xtest),\n",
    "                                    pos_label=1)\n",
    "print(FPR.shape) \n",
    "print(recall.shape) \n",
    "print(thresholds.shape)  # 如果y_score使用的是距离，那么thresholds也是距离；如果y_score使用的是概率，那么thresholds也是概率\n",
    "\n",
    "plt.figure()\n",
    "plt.plot(FPR, recall, c='darkorange', lw = 2, label='ROC curve (area = %0.2f)' % auc)  # ROC 曲线\n",
    "plt.plot([0, 1], [0, 1], color='navy', lw=2, linestyle='--')\n",
    "plt.title('ROC')  # 设置标题\n",
    "plt.xlim([-0.05, 1.05])\n",
    "plt.ylim([-0.05, 1.05])\n",
    "plt.xlabel('False Positive Rate')\n",
    "plt.ylabel('Recall')\n",
    "plt.legend(loc='lower right')\n",
    "plt.show()"
   ]
  },
  {
   "cell_type": "code",
   "execution_count": 15,
   "metadata": {},
   "outputs": [
    {
     "name": "stdout",
     "output_type": "stream",
     "text": [
      "约登指数是：0.996836\n"
     ]
    }
   ],
   "source": [
    "diff = recall - FPR\n",
    "maxIdx = diff.tolist().index(max(diff))\n",
    "print('约登指数是：%f' % thresholds[maxIdx])"
   ]
  },
  {
   "cell_type": "code",
   "execution_count": 16,
   "metadata": {},
   "outputs": [
    {
     "name": "stdout",
     "output_type": "stream",
     "text": [
      "[[ 49   0]\n",
      " [245 599]]\n",
      "[[ 106    2]\n",
      " [ 515 1460]]\n"
     ]
    }
   ],
   "source": [
    "# 混淆矩阵\n",
    "print(confusion_matrix(y_true=Ytest, y_pred=svc.predict(Xtest), labels=[1, 0])) \n",
    "print(confusion_matrix(y_true=Ytrain, y_pred=svc.predict(Xtrain), labels=[1, 0]))  "
   ]
  },
  {
   "cell_type": "markdown",
   "metadata": {},
   "source": [
    "混淆矩阵\n",
    "\n",
    "真实值/预测值  \n",
    "----1--0\n",
    "    \n",
    "1--49--0\n",
    "\n",
    "0--245--599"
   ]
  },
  {
   "cell_type": "markdown",
   "metadata": {},
   "source": [
    "## 代回预测"
   ]
  },
  {
   "cell_type": "code",
   "execution_count": 17,
   "metadata": {},
   "outputs": [],
   "source": [
    "# 概率结果\n",
    "predict_all = proba = svc.predict_proba(train_features)\n",
    "\n",
    "pre_0 = pd.Series(predict_all[:, 0], name='pre_0')\n",
    "pre_1 = pd.Series(predict_all[:, 1], name='pre_1')\n",
    "\n",
    "# 01结果\n",
    "predict_all_01 = proba = svc.predict(train_features)"
   ]
  },
  {
   "cell_type": "code",
   "execution_count": 18,
   "metadata": {},
   "outputs": [],
   "source": [
    "final_data = train_features\n",
    "final_data.insert(0,'pre_0',pre_0)\n",
    "final_data.insert(0,'pre_1',pre_1)\n",
    "final_data.insert(0,'pred',predict_all_01)\n",
    "final_data.insert(0,'owner',train_labels)\n",
    "final_data.insert(0,'id',data.loc[:,\"id\"])"
   ]
  },
  {
   "cell_type": "code",
   "execution_count": 19,
   "metadata": {},
   "outputs": [
    {
     "data": {
      "text/html": [
       "<div>\n",
       "<style scoped>\n",
       "    .dataframe tbody tr th:only-of-type {\n",
       "        vertical-align: middle;\n",
       "    }\n",
       "\n",
       "    .dataframe tbody tr th {\n",
       "        vertical-align: top;\n",
       "    }\n",
       "\n",
       "    .dataframe thead th {\n",
       "        text-align: right;\n",
       "    }\n",
       "</style>\n",
       "<table border=\"1\" class=\"dataframe\">\n",
       "  <thead>\n",
       "    <tr style=\"text-align: right;\">\n",
       "      <th></th>\n",
       "      <th>id</th>\n",
       "      <th>owner</th>\n",
       "      <th>pred</th>\n",
       "      <th>pre_1</th>\n",
       "      <th>pre_0</th>\n",
       "      <th>longitude</th>\n",
       "      <th>latitude</th>\n",
       "      <th>likeCount</th>\n",
       "      <th>template</th>\n",
       "    </tr>\n",
       "  </thead>\n",
       "  <tbody>\n",
       "    <tr>\n",
       "      <th>0</th>\n",
       "      <td>3023</td>\n",
       "      <td>1</td>\n",
       "      <td>0</td>\n",
       "      <td>1.119818e-05</td>\n",
       "      <td>0.999989</td>\n",
       "      <td>121.453962</td>\n",
       "      <td>31.032579</td>\n",
       "      <td>3</td>\n",
       "      <td>68</td>\n",
       "    </tr>\n",
       "    <tr>\n",
       "      <th>1</th>\n",
       "      <td>3021</td>\n",
       "      <td>0</td>\n",
       "      <td>0</td>\n",
       "      <td>1.000000e-07</td>\n",
       "      <td>1.000000</td>\n",
       "      <td>121.454747</td>\n",
       "      <td>31.032390</td>\n",
       "      <td>0</td>\n",
       "      <td>223</td>\n",
       "    </tr>\n",
       "    <tr>\n",
       "      <th>2</th>\n",
       "      <td>3020</td>\n",
       "      <td>0</td>\n",
       "      <td>0</td>\n",
       "      <td>1.000000e-07</td>\n",
       "      <td>1.000000</td>\n",
       "      <td>121.451890</td>\n",
       "      <td>31.031580</td>\n",
       "      <td>0</td>\n",
       "      <td>222</td>\n",
       "    </tr>\n",
       "    <tr>\n",
       "      <th>3</th>\n",
       "      <td>3019</td>\n",
       "      <td>0</td>\n",
       "      <td>1</td>\n",
       "      <td>5.401159e-02</td>\n",
       "      <td>0.945988</td>\n",
       "      <td>121.451762</td>\n",
       "      <td>31.029240</td>\n",
       "      <td>0</td>\n",
       "      <td>11</td>\n",
       "    </tr>\n",
       "    <tr>\n",
       "      <th>4</th>\n",
       "      <td>3018</td>\n",
       "      <td>0</td>\n",
       "      <td>0</td>\n",
       "      <td>3.072849e-03</td>\n",
       "      <td>0.996927</td>\n",
       "      <td>121.450062</td>\n",
       "      <td>31.033594</td>\n",
       "      <td>2</td>\n",
       "      <td>30</td>\n",
       "    </tr>\n",
       "    <tr>\n",
       "      <th>...</th>\n",
       "      <td>...</td>\n",
       "      <td>...</td>\n",
       "      <td>...</td>\n",
       "      <td>...</td>\n",
       "      <td>...</td>\n",
       "      <td>...</td>\n",
       "      <td>...</td>\n",
       "      <td>...</td>\n",
       "      <td>...</td>\n",
       "    </tr>\n",
       "    <tr>\n",
       "      <th>2971</th>\n",
       "      <td>5</td>\n",
       "      <td>1</td>\n",
       "      <td>1</td>\n",
       "      <td>2.034763e-01</td>\n",
       "      <td>0.796524</td>\n",
       "      <td>121.406714</td>\n",
       "      <td>31.226994</td>\n",
       "      <td>1</td>\n",
       "      <td>1</td>\n",
       "    </tr>\n",
       "    <tr>\n",
       "      <th>2972</th>\n",
       "      <td>4</td>\n",
       "      <td>1</td>\n",
       "      <td>1</td>\n",
       "      <td>2.045339e-01</td>\n",
       "      <td>0.795466</td>\n",
       "      <td>121.406724</td>\n",
       "      <td>31.226958</td>\n",
       "      <td>2</td>\n",
       "      <td>1</td>\n",
       "    </tr>\n",
       "    <tr>\n",
       "      <th>2973</th>\n",
       "      <td>3</td>\n",
       "      <td>1</td>\n",
       "      <td>1</td>\n",
       "      <td>2.024203e-01</td>\n",
       "      <td>0.797580</td>\n",
       "      <td>121.406559</td>\n",
       "      <td>31.227018</td>\n",
       "      <td>0</td>\n",
       "      <td>1</td>\n",
       "    </tr>\n",
       "    <tr>\n",
       "      <th>2974</th>\n",
       "      <td>2</td>\n",
       "      <td>1</td>\n",
       "      <td>1</td>\n",
       "      <td>2.024202e-01</td>\n",
       "      <td>0.797580</td>\n",
       "      <td>121.406527</td>\n",
       "      <td>31.226913</td>\n",
       "      <td>0</td>\n",
       "      <td>1</td>\n",
       "    </tr>\n",
       "    <tr>\n",
       "      <th>2975</th>\n",
       "      <td>1</td>\n",
       "      <td>1</td>\n",
       "      <td>1</td>\n",
       "      <td>2.024202e-01</td>\n",
       "      <td>0.797580</td>\n",
       "      <td>121.406427</td>\n",
       "      <td>31.226998</td>\n",
       "      <td>0</td>\n",
       "      <td>1</td>\n",
       "    </tr>\n",
       "  </tbody>\n",
       "</table>\n",
       "<p>2976 rows × 9 columns</p>\n",
       "</div>"
      ],
      "text/plain": [
       "        id  owner  pred         pre_1     pre_0   longitude   latitude   \n",
       "0     3023      1     0  1.119818e-05  0.999989  121.453962  31.032579  \\\n",
       "1     3021      0     0  1.000000e-07  1.000000  121.454747  31.032390   \n",
       "2     3020      0     0  1.000000e-07  1.000000  121.451890  31.031580   \n",
       "3     3019      0     1  5.401159e-02  0.945988  121.451762  31.029240   \n",
       "4     3018      0     0  3.072849e-03  0.996927  121.450062  31.033594   \n",
       "...    ...    ...   ...           ...       ...         ...        ...   \n",
       "2971     5      1     1  2.034763e-01  0.796524  121.406714  31.226994   \n",
       "2972     4      1     1  2.045339e-01  0.795466  121.406724  31.226958   \n",
       "2973     3      1     1  2.024203e-01  0.797580  121.406559  31.227018   \n",
       "2974     2      1     1  2.024202e-01  0.797580  121.406527  31.226913   \n",
       "2975     1      1     1  2.024202e-01  0.797580  121.406427  31.226998   \n",
       "\n",
       "      likeCount  template  \n",
       "0             3        68  \n",
       "1             0       223  \n",
       "2             0       222  \n",
       "3             0        11  \n",
       "4             2        30  \n",
       "...         ...       ...  \n",
       "2971          1         1  \n",
       "2972          2         1  \n",
       "2973          0         1  \n",
       "2974          0         1  \n",
       "2975          0         1  \n",
       "\n",
       "[2976 rows x 9 columns]"
      ]
     },
     "execution_count": 19,
     "metadata": {},
     "output_type": "execute_result"
    }
   ],
   "source": [
    "final_data"
   ]
  },
  {
   "cell_type": "code",
   "execution_count": 20,
   "metadata": {},
   "outputs": [],
   "source": [
    "outputpath=r'pred_tree_svm.csv'\n",
    "final_data.to_csv(outputpath, sep=',', index=False, header=True, encoding='utf-8-sig')"
   ]
  },
  {
   "cell_type": "code",
   "execution_count": 25,
   "metadata": {},
   "outputs": [],
   "source": [
    "selected_columns = [\"id\", \"pred\", \"pre_0\", \"pre_1\", \"owner\"]\n",
    "selected_data = final_data[selected_columns]\n",
    "dict_list = selected_data.to_dict(orient='records')\n",
    "\n",
    "output_data = [\n",
    "    {\n",
    "        'id': item['id'],\n",
    "        'owner': item['owner'],\n",
    "        'pred': item['pred'],\n",
    "        'pred_0': item['pre_0'],\n",
    "        'pred_1': item['pre_1']\n",
    "    } for item in dict_list\n",
    "]\n",
    "\n",
    "output_file = 'pred_result_svm.json'\n",
    "with open(output_file, 'w', encoding='utf-8') as f:\n",
    "    import json\n",
    "    json.dump(output_data, f, ensure_ascii=False, indent=4)"
   ]
  },
  {
   "cell_type": "markdown",
   "metadata": {},
   "source": [
    "### 下一个最有可能被领养的植物是 : id=368"
   ]
  },
  {
   "cell_type": "code",
   "execution_count": 24,
   "metadata": {},
   "outputs": [
    {
     "data": {
      "text/plain": [
       "id           368.000000\n",
       "owner          0.000000\n",
       "pred           1.000000\n",
       "pre_1          0.206653\n",
       "pre_0          0.793347\n",
       "longitude    121.406421\n",
       "latitude      31.226667\n",
       "likeCount      4.000000\n",
       "template       1.000000\n",
       "Name: 2636, dtype: float64"
      ]
     },
     "execution_count": 24,
     "metadata": {},
     "output_type": "execute_result"
    }
   ],
   "source": [
    "temp =  final_data[data['owner'] == 0]\n",
    "max_index = temp['pre_1'].idxmax()\n",
    "max_record = temp.loc[max_index,:]\n",
    "max_record"
   ]
  }
 ],
 "metadata": {
  "kernelspec": {
   "display_name": "Python 3",
   "language": "python",
   "name": "python3"
  },
  "language_info": {
   "codemirror_mode": {
    "name": "ipython",
    "version": 3
   },
   "file_extension": ".py",
   "mimetype": "text/x-python",
   "name": "python",
   "nbconvert_exporter": "python",
   "pygments_lexer": "ipython3",
   "version": "3.10.10"
  }
 },
 "nbformat": 4,
 "nbformat_minor": 2
}
